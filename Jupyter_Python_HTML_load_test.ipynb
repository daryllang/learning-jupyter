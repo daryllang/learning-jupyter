{
  "nbformat": 4,
  "nbformat_minor": 0,
  "metadata": {
    "colab": {
      "name": "Jupyter Python HTML load test.ipynb",
      "provenance": [],
      "collapsed_sections": [],
      "authorship_tag": "ABX9TyM9wXIlFoM25iwSUEeV2X5d",
      "include_colab_link": true
    },
    "kernelspec": {
      "name": "python3",
      "display_name": "Python 3"
    },
    "language_info": {
      "name": "python"
    }
  },
  "cells": [
    {
      "cell_type": "markdown",
      "metadata": {
        "id": "view-in-github",
        "colab_type": "text"
      },
      "source": [
        "<a href=\"https://colab.research.google.com/github/daryllang/learning-jupyter/blob/main/Jupyter_Python_HTML_load_test.ipynb\" target=\"_parent\"><img src=\"https://colab.research.google.com/assets/colab-badge.svg\" alt=\"Open In Colab\"/></a>"
      ]
    },
    {
      "cell_type": "markdown",
      "metadata": {
        "id": "qZMZJG2Fi-Hi"
      },
      "source": [
        ""
      ]
    },
    {
      "cell_type": "markdown",
      "metadata": {
        "id": "YMfQG_lGjAlo"
      },
      "source": [
        "This is my first Jupyter notebook. It prompts for a URL (example: https://www.ibm.com), then loads and saves the HTML as website.html."
      ]
    },
    {
      "cell_type": "code",
      "metadata": {
        "id": "U-A0aGLWhnm0",
        "outputId": "52d0cd32-49c0-4bdc-d296-9fbc2614d156",
        "colab": {
          "base_uri": "https://localhost:8080/"
        }
      },
      "source": [
        "import urllib.request, urllib.error, urllib.parse\n",
        "\n",
        "url = \"https://www.ibm.com\" #@param {type:\"string\"}\n",
        "\n",
        "response = urllib.request.urlopen(url)\n",
        "webContent = response.read()\n",
        "\n",
        "f = open('website.html', 'wb')\n",
        "f.write(webContent)\n",
        "f.close"
      ],
      "execution_count": 1,
      "outputs": [
        {
          "output_type": "stream",
          "text": [
            "b'<!DOCTYPE html>\\n<html lang=\"en-nl\" dir=\"ltr\">\\n  <head>\\n    <meta charset=\"utf-8\" />\\n<script>digitalData = {\\n    \"page\": {\\n        \"category\": [],\\n        \"pageInfo\": {\\n            \"language\": \"en-NL\",\\n            \"country\": \"NL\",\\n            \"publisher\": \"IBM Corporation\",\\n            \"version\": \"v1'\n"
          ],
          "name": "stdout"
        },
        {
          "output_type": "execute_result",
          "data": {
            "text/plain": [
              "<function BufferedWriter.close>"
            ]
          },
          "metadata": {
            "tags": []
          },
          "execution_count": 1
        }
      ]
    }
  ]
}